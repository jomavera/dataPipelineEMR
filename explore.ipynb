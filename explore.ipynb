{
 "cells": [
  {
   "cell_type": "code",
   "execution_count": 1,
   "metadata": {
    "editable": true
   },
   "outputs": [],
   "source": [
    "from pyspark.sql import SparkSession"
   ]
  },
  {
   "cell_type": "code",
   "execution_count": 2,
   "metadata": {
    "editable": true
   },
   "outputs": [],
   "source": [
    "spark = SparkSession.builder.\\\n",
    "config(\"spark.jars.packages\",\"org.apache.hadoop:hadoop-aws:2.7.0\")\\\n",
    ".enableHiveSupport().getOrCreate()"
   ]
  },
  {
   "cell_type": "code",
   "execution_count": 3,
   "metadata": {
    "editable": true
   },
   "outputs": [],
   "source": [
    "s3_bucket = \"s3a://dend-jose/\"\n",
    "key = \"I94_data_transformed_2016.parquet\"\n",
    "df_immigration =spark.read.load(s3_bucket + key, header=True, inferschema=True, format='parquet')"
   ]
  },
  {
   "cell_type": "code",
   "execution_count": 4,
   "metadata": {
    "editable": true
   },
   "outputs": [
    {
     "name": "stdout",
     "output_type": "stream",
     "text": [
      "+------------+--------------+-------------+-------------------+---------+----------+-----------+--------------------+------------------+-----------------+------------------+-----------------+----------------------+\n",
      "|arrival_date|departure_date|arrival_month|origin_airport_code|visa_code|stay_state|origin_city|      origin_country|    avg_population| avg_foreign_born|avg_household_size|   avg_median_age|origin_avg_temperature|\n",
      "+------------+--------------+-------------+-------------------+---------+----------+-----------+--------------------+------------------+-----------------+------------------+-----------------+----------------------+\n",
      "|  2016-01-05|    2016-01-10|          1.0|                BOA|      2.0|        TX|       Boma|Congo (Democratic...|258439.02197802198|53106.42490842491|2.8451282051282023|33.37948717948723|                25.672|\n",
      "|  2016-01-05|          null|          1.0|                BOA|      3.0|        TX|       Boma|Congo (Democratic...|258439.02197802198|53106.42490842491|2.8451282051282023|33.37948717948723|                25.672|\n",
      "|  2016-01-05|    2016-01-07|          1.0|                BOA|      2.0|        TX|       Boma|Congo (Democratic...|258439.02197802198|53106.42490842491|2.8451282051282023|33.37948717948723|                25.672|\n",
      "|  2016-01-05|    2016-01-06|          1.0|                DOU|      2.0|        AZ|   Dourados|              Brazil|        281221.375|       42644.5625|2.7743749999999987|35.03750000000001|                25.955|\n",
      "|  2016-01-05|    2016-01-07|          1.0|                DOU|      2.0|        AZ|   Dourados|              Brazil|        281221.375|       42644.5625|2.7743749999999987|35.03750000000001|                25.955|\n",
      "+------------+--------------+-------------+-------------------+---------+----------+-----------+--------------------+------------------+-----------------+------------------+-----------------+----------------------+\n",
      "only showing top 5 rows\n",
      "\n"
     ]
    }
   ],
   "source": [
    "df_immigration.show(5)"
   ]
  },
  {
   "cell_type": "code",
   "execution_count": 5,
   "metadata": {
    "editable": true
   },
   "outputs": [],
   "source": [
    "df_immigration.createOrReplaceTempView('immigration_table')"
   ]
  },
  {
   "cell_type": "markdown",
   "metadata": {
    "editable": true
   },
   "source": [
    "### What is the average temperature of the country of origin of the top foreign visitors on April? "
   ]
  },
  {
   "cell_type": "code",
   "execution_count": 6,
   "metadata": {
    "editable": true
   },
   "outputs": [
    {
     "name": "stdout",
     "output_type": "stream",
     "text": [
      "+-------------+--------------+----------------------+\n",
      "|count_country|origin_country|origin_avg_temperature|\n",
      "+-------------+--------------+----------------------+\n",
      "|       292243|       Nigeria|                27.995|\n",
      "|       148637|         Chile|                13.267|\n",
      "|        80111|       Morocco|    16.665999999999997|\n",
      "|        24656|        Mexico|                25.925|\n",
      "|        24058|       Ireland|                 6.815|\n",
      "+-------------+--------------+----------------------+\n",
      "only showing top 5 rows\n",
      "\n"
     ]
    }
   ],
   "source": [
    "spark.sql('''\n",
    "SELECT COUNT(*) AS count_country, origin_country, origin_avg_temperature\n",
    "FROM immigration_table\n",
    "WHERE origin_country != 'United States' AND\n",
    "arrival_date >= '2016-04-01' AND\n",
    "arrival_date <= '2016-04-30'\n",
    "GROUP BY origin_country, origin_avg_temperature\n",
    "ORDER by count_country DESC\n",
    "''').show(5)"
   ]
  },
  {
   "cell_type": "markdown",
   "metadata": {
    "editable": true
   },
   "source": [
    "### What is the average foreign borns in the top visited states?"
   ]
  },
  {
   "cell_type": "code",
   "execution_count": 7,
   "metadata": {
    "editable": true
   },
   "outputs": [
    {
     "name": "stdout",
     "output_type": "stream",
     "text": [
      "+-----------+----------+------------------+\n",
      "|count_state|stay_state|  avg_foreign_born|\n",
      "+-----------+----------+------------------+\n",
      "|    7779538|        CA|54821.985207100595|\n",
      "|    6805370|        FL| 35340.38738738739|\n",
      "|    1624228|        TX| 53106.42490842491|\n",
      "|    1567010|        NY| 318275.4259259259|\n",
      "|    1003505|        GU|              null|\n",
      "+-----------+----------+------------------+\n",
      "only showing top 5 rows\n",
      "\n"
     ]
    }
   ],
   "source": [
    "spark.sql('''\n",
    "SELECT COUNT(*) AS count_state, stay_state, avg_foreign_born\n",
    "FROM immigration_table\n",
    "GROUP BY stay_state, avg_foreign_born\n",
    "ORDER by count_state DESC\n",
    "''').show(5)"
   ]
  },
  {
   "cell_type": "markdown",
   "metadata": {
    "editable": true
   },
   "source": [
    "### Which are the top countries that visit the US during the winter for tourism?"
   ]
  },
  {
   "cell_type": "code",
   "execution_count": 9,
   "metadata": {
    "editable": true
   },
   "outputs": [
    {
     "name": "stdout",
     "output_type": "stream",
     "text": [
      "+-------------+--------------+\n",
      "|count_country|origin_country|\n",
      "+-------------+--------------+\n",
      "|       577276|       Nigeria|\n",
      "|       315593|       Morocco|\n",
      "|       236138|         Chile|\n",
      "|        22152|         Spain|\n",
      "|        22117|     Venezuela|\n",
      "+-------------+--------------+\n",
      "only showing top 5 rows\n",
      "\n"
     ]
    }
   ],
   "source": [
    "spark.sql('''\n",
    "SELECT COUNT(*) AS count_country, origin_country\n",
    "FROM immigration_table\n",
    "WHERE origin_country != 'United States' AND\n",
    "arrival_date >= '2016-01-01' AND\n",
    "arrival_date <= '2016-03-20' AND\n",
    "visa_code = 2\n",
    "GROUP BY origin_country\n",
    "ORDER by count_country DESC\n",
    "''').show(5)"
   ]
  },
  {
   "cell_type": "markdown",
   "metadata": {
    "editable": true
   },
   "source": [
    "### Which is the country of origin of most students during the summer?"
   ]
  },
  {
   "cell_type": "code",
   "execution_count": 10,
   "metadata": {
    "editable": true
   },
   "outputs": [
    {
     "name": "stdout",
     "output_type": "stream",
     "text": [
      "+-------------+--------------+\n",
      "|count_country|origin_country|\n",
      "+-------------+--------------+\n",
      "|       101127|       Nigeria|\n",
      "|        56430|         Chile|\n",
      "|         4713|       Germany|\n",
      "|         1066|     Venezuela|\n",
      "|         1066|         Spain|\n",
      "+-------------+--------------+\n",
      "only showing top 5 rows\n",
      "\n"
     ]
    }
   ],
   "source": [
    "spark.sql('''\n",
    "SELECT COUNT(*) AS count_country, origin_country\n",
    "FROM immigration_table\n",
    "WHERE origin_country != 'United States' AND\n",
    "arrival_date >= '2016-06-21' AND\n",
    "arrival_date <= '2016-09-22' AND\n",
    "visa_code = 3\n",
    "GROUP BY origin_country\n",
    "ORDER by count_country DESC\n",
    "''').show(5)"
   ]
  },
  {
   "cell_type": "code",
   "execution_count": null,
   "metadata": {
    "editable": true
   },
   "outputs": [],
   "source": []
  }
 ],
 "metadata": {
  "kernelspec": {
   "display_name": "Python 3",
   "language": "python",
   "name": "python3"
  },
  "language_info": {
   "codemirror_mode": {
    "name": "ipython",
    "version": 3
   },
   "file_extension": ".py",
   "mimetype": "text/x-python",
   "name": "python",
   "nbconvert_exporter": "python",
   "pygments_lexer": "ipython3",
   "version": "3.6.3"
  }
 },
 "nbformat": 4,
 "nbformat_minor": 4
}